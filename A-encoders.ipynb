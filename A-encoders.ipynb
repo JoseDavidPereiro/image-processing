{
 "cells": [
  {
   "cell_type": "code",
   "execution_count": 4,
   "metadata": {},
   "outputs": [],
   "source": [
    "import keras \n",
    "from keras import optimizers \n",
    "from keras import losses \n",
    "from keras.models import Sequential, Model \n",
    "from keras.layers import Dense, Input, Dropout, Embedding, LSTM \n",
    "from keras.preprocessing import sequence \n",
    "from keras.callbacks import TensorBoard \n",
    "\n",
    "import sklearn \n",
    "from sklearn.preprocessing import StandardScaler \n",
    "from sklearn.metrics import confusion_matrix, roc_auc_score \n",
    "from sklearn.model_selection import train_test_split \n",
    "from sklearn.preprocessing import MinMaxScaler \n",
    "\n",
    "import seaborn as sns \n",
    "import pandas as pd \n",
    "import numpy as np \n",
    "\n",
    "import matplotlib\n",
    "import matplotlib.gridspec as gridspec \n",
    "%matplotlib inline\n",
    "import matplotlib.pyplot as plt \n",
    "\n",
    "import tensorflow \n",
    "import sys \n",
    "\n",
    "\n",
    "\n"
   ]
  },
  {
   "cell_type": "code",
   "execution_count": 6,
   "metadata": {},
   "outputs": [],
   "source": [
    "class Visualization: \n",
    "    labels= [\"Normal\", \"Anomaly\"]\n",
    "    \n",
    "    def c_matrix(self, y, ypred):\n",
    "        matrix=confusion_matrix(y, ypred)\n",
    "        plt.figure(figsize=(10,8))\n",
    "        color=[\"orange\", \"green\"]\n",
    "        sns.heatmap(matrix, xticklabels=self.labels, yticklabels=self.labels, cmap=colors, annot=True, fmt=\"d\")\n",
    "        plt.title(\"Confusion Matrix\")\n",
    "        plt.ylabel(\"Actual\")\n",
    "        plt.xlabel(\"Predicted\")\n",
    "        plt.show()\n",
    "    \n",
    "    def anomaly(self, y, error, threshold):\n",
    "        groupSDF = pd.DataFrame({'error': error, 'true': y}).groupby('true')\n",
    "        figure,axes = plt.subplots(figsize(12,8))\n",
    "        \n",
    "        for name, group in groupSDF:\n",
    "            axes.plot(group.index, group.error, marker='x' if name == 1 else 'o', linestyle='', color='r' if name==1 else 'g', label=\"Anomaly\" if name==1 else \"Normal\")\n",
    "        \n",
    "        axes.hlines(threshold, axes.get_xlim()[0], axes.get_xlim()[1], colors=\"b\", zorder=100, label='Threshold')\n",
    "        axes.legend()\n",
    "        plt.title(\"Anomalies\")\n",
    "        plt.xlabel(\"Data\")\n",
    "        plt.ylabel(\"Error\")\n",
    "        plt.show()\n",
    "        \n",
    "\n",
    "    def error(self, error, threshold):\n",
    "        plt.plot(error, marker='0', ms=3.5, linestyle='', label='Point')\n",
    "        plt.hlines(threshold, xmin=0, xmax=len(error)-1, colors=\"b\", zorder=100, label='Threshold')\n",
    "        plt.legend()\n",
    "        plt.title(\"Reconstruction error\")\n",
    "        plt.xlabel(\"Data\")\n",
    "        plt.ylabel(\"Error\")\n",
    "        plt.show()"
   ]
  },
  {
   "cell_type": "code",
   "execution_count": null,
   "metadata": {},
   "outputs": [],
   "source": []
  }
 ],
 "metadata": {
  "kernelspec": {
   "display_name": "Python 3",
   "language": "python",
   "name": "python3"
  },
  "language_info": {
   "codemirror_mode": {
    "name": "ipython",
    "version": 3
   },
   "file_extension": ".py",
   "mimetype": "text/x-python",
   "name": "python",
   "nbconvert_exporter": "python",
   "pygments_lexer": "ipython3",
   "version": "3.7.7"
  }
 },
 "nbformat": 4,
 "nbformat_minor": 4
}
