{
 "cells": [
  {
   "cell_type": "code",
   "execution_count": 18,
   "metadata": {},
   "outputs": [],
   "source": [
    "import torch\n",
    "import numpy as np"
   ]
  },
  {
   "cell_type": "code",
   "execution_count": 19,
   "metadata": {},
   "outputs": [
    {
     "data": {
      "text/plain": [
       "False"
      ]
     },
     "execution_count": 19,
     "metadata": {},
     "output_type": "execute_result"
    }
   ],
   "source": [
    "x=[12,23,34,56,67,78]\n",
    "torch.is_tensor(x)"
   ]
  },
  {
   "cell_type": "code",
   "execution_count": 20,
   "metadata": {},
   "outputs": [
    {
     "data": {
      "text/plain": [
       "False"
      ]
     },
     "execution_count": 20,
     "metadata": {},
     "output_type": "execute_result"
    }
   ],
   "source": [
    "torch.is_storage(x)"
   ]
  },
  {
   "cell_type": "code",
   "execution_count": 21,
   "metadata": {},
   "outputs": [],
   "source": [
    "y=torch.randn(1,2,3,4,5)"
   ]
  },
  {
   "cell_type": "code",
   "execution_count": 22,
   "metadata": {},
   "outputs": [
    {
     "data": {
      "text/plain": [
       "True"
      ]
     },
     "execution_count": 22,
     "metadata": {},
     "output_type": "execute_result"
    }
   ],
   "source": [
    "torch.is_tensor(y)"
   ]
  },
  {
   "cell_type": "raw",
   "metadata": {},
   "source": [
    "torch.numel(y)"
   ]
  },
  {
   "cell_type": "code",
   "execution_count": 23,
   "metadata": {},
   "outputs": [
    {
     "data": {
      "text/plain": [
       "tensor([[0., 0., 0., 0.],\n",
       "        [0., 0., 0., 0.],\n",
       "        [0., 0., 0., 0.],\n",
       "        [0., 0., 0., 0.]])"
      ]
     },
     "execution_count": 23,
     "metadata": {},
     "output_type": "execute_result"
    }
   ],
   "source": [
    "torch.zeros(4,4)"
   ]
  },
  {
   "cell_type": "code",
   "execution_count": 24,
   "metadata": {},
   "outputs": [
    {
     "data": {
      "text/plain": [
       "16"
      ]
     },
     "execution_count": 24,
     "metadata": {},
     "output_type": "execute_result"
    }
   ],
   "source": [
    "torch.numel(torch.zeros(4,4))"
   ]
  },
  {
   "cell_type": "code",
   "execution_count": 25,
   "metadata": {},
   "outputs": [
    {
     "data": {
      "text/plain": [
       "tensor([[1., 0., 0., 0.],\n",
       "        [0., 1., 0., 0.],\n",
       "        [0., 0., 1., 0.]])"
      ]
     },
     "execution_count": 25,
     "metadata": {},
     "output_type": "execute_result"
    }
   ],
   "source": [
    "torch.eye(3,4)"
   ]
  },
  {
   "cell_type": "code",
   "execution_count": 26,
   "metadata": {},
   "outputs": [
    {
     "data": {
      "text/plain": [
       "tensor([[1., 0., 0., 0.],\n",
       "        [0., 1., 0., 0.],\n",
       "        [0., 0., 1., 0.],\n",
       "        [0., 0., 0., 1.],\n",
       "        [0., 0., 0., 0.]])"
      ]
     },
     "execution_count": 26,
     "metadata": {},
     "output_type": "execute_result"
    }
   ],
   "source": [
    "torch.eye(5,4)"
   ]
  },
  {
   "cell_type": "code",
   "execution_count": 28,
   "metadata": {},
   "outputs": [],
   "source": [
    "x1=np.array(x)"
   ]
  },
  {
   "cell_type": "code",
   "execution_count": 29,
   "metadata": {},
   "outputs": [
    {
     "data": {
      "text/plain": [
       "tensor([12, 23, 34, 56, 67, 78], dtype=torch.int32)"
      ]
     },
     "execution_count": 29,
     "metadata": {},
     "output_type": "execute_result"
    }
   ],
   "source": [
    "torch.from_numpy(x1)"
   ]
  },
  {
   "cell_type": "code",
   "execution_count": 30,
   "metadata": {},
   "outputs": [
    {
     "data": {
      "text/plain": [
       "array([12, 23, 34, 56, 67, 78])"
      ]
     },
     "execution_count": 30,
     "metadata": {},
     "output_type": "execute_result"
    }
   ],
   "source": [
    "x1"
   ]
  },
  {
   "cell_type": "code",
   "execution_count": 32,
   "metadata": {},
   "outputs": [
    {
     "data": {
      "text/plain": [
       "tensor([12, 23, 34, 56, 67, 78], dtype=torch.int32)"
      ]
     },
     "execution_count": 32,
     "metadata": {},
     "output_type": "execute_result"
    }
   ],
   "source": [
    "torch.from_numpy(x1)"
   ]
  },
  {
   "cell_type": "code",
   "execution_count": 33,
   "metadata": {},
   "outputs": [
    {
     "data": {
      "text/plain": [
       "tensor([12, 23, 34, 56, 67, 78], dtype=torch.int32)"
      ]
     },
     "execution_count": 33,
     "metadata": {},
     "output_type": "execute_result"
    }
   ],
   "source": [
    "torch.from_numpy(x1)"
   ]
  },
  {
   "cell_type": "code",
   "execution_count": 34,
   "metadata": {},
   "outputs": [
    {
     "data": {
      "text/plain": [
       "tensor([ 2.0000,  2.3333,  2.6667,  3.0000,  3.3333,  3.6667,  4.0000,  4.3333,\n",
       "         4.6667,  5.0000,  5.3333,  5.6667,  6.0000,  6.3333,  6.6667,  7.0000,\n",
       "         7.3333,  7.6667,  8.0000,  8.3333,  8.6667,  9.0000,  9.3333,  9.6667,\n",
       "        10.0000])"
      ]
     },
     "execution_count": 34,
     "metadata": {},
     "output_type": "execute_result"
    }
   ],
   "source": [
    "torch.linspace(2,10,steps=25) #linear spacing"
   ]
  },
  {
   "cell_type": "code",
   "execution_count": 35,
   "metadata": {},
   "outputs": [
    {
     "data": {
      "text/plain": [
       "tensor([1.0000e+10, 1.0000e+10, 1.0000e+10, 1.0000e+10, 1.0000e+10, 1.0000e+10,\n",
       "        1.0000e+10, 1.0000e+10, 1.0000e+10, 1.0000e+10, 1.0000e+10, 1.0000e+10,\n",
       "        1.0000e+10, 1.0000e+10, 1.0000e+10])"
      ]
     },
     "execution_count": 35,
     "metadata": {},
     "output_type": "execute_result"
    }
   ],
   "source": [
    "torch.logspace(start=10, end=10, steps=15)"
   ]
  },
  {
   "cell_type": "code",
   "execution_count": 36,
   "metadata": {},
   "outputs": [
    {
     "data": {
      "text/plain": [
       "tensor([0.0410, 0.4107, 0.2754, 0.1223, 0.0938, 0.6652, 0.4284, 0.5537, 0.4974,\n",
       "        0.3561])"
      ]
     },
     "execution_count": 36,
     "metadata": {},
     "output_type": "execute_result"
    }
   ],
   "source": [
    "torch.rand(10)"
   ]
  },
  {
   "cell_type": "code",
   "execution_count": 37,
   "metadata": {},
   "outputs": [
    {
     "data": {
      "text/plain": [
       "tensor([[0.8011, 0.1240, 0.0294, 0.1350, 0.3207],\n",
       "        [0.0902, 0.1064, 0.6196, 0.2748, 0.1869],\n",
       "        [0.9929, 0.4231, 0.3554, 0.2406, 0.3232],\n",
       "        [0.7471, 0.2783, 0.7884, 0.0267, 0.3696]])"
      ]
     },
     "execution_count": 37,
     "metadata": {},
     "output_type": "execute_result"
    }
   ],
   "source": [
    "torch.rand(4,5)"
   ]
  },
  {
   "cell_type": "code",
   "execution_count": 38,
   "metadata": {},
   "outputs": [
    {
     "data": {
      "text/plain": [
       "tensor([-0.7603,  1.6569, -0.7586,  0.3999, -0.9979,  0.9851,  1.1839, -0.8034,\n",
       "         1.9733, -0.8049])"
      ]
     },
     "execution_count": 38,
     "metadata": {},
     "output_type": "execute_result"
    }
   ],
   "source": [
    "torch.randn(10)"
   ]
  },
  {
   "cell_type": "code",
   "execution_count": 39,
   "metadata": {},
   "outputs": [
    {
     "data": {
      "text/plain": [
       "tensor([[-0.4830,  0.1980,  2.5265,  2.1738,  0.4932],\n",
       "        [ 0.0677, -0.0607, -0.2312, -0.7934, -0.2670],\n",
       "        [-0.4596, -0.0288, -0.8613,  0.8538,  0.4771],\n",
       "        [-0.4694, -0.5088, -0.3096, -0.4772, -0.3880]])"
      ]
     },
     "execution_count": 39,
     "metadata": {},
     "output_type": "execute_result"
    }
   ],
   "source": [
    "torch.randn(4,5)"
   ]
  },
  {
   "cell_type": "code",
   "execution_count": 41,
   "metadata": {},
   "outputs": [
    {
     "data": {
      "text/plain": [
       "tensor([1, 3, 6, 9, 5, 0, 4, 7, 8, 2])"
      ]
     },
     "execution_count": 41,
     "metadata": {},
     "output_type": "execute_result"
    }
   ],
   "source": [
    "torch.randperm(10)\n",
    "#random permutation"
   ]
  },
  {
   "cell_type": "code",
   "execution_count": 42,
   "metadata": {},
   "outputs": [
    {
     "data": {
      "text/plain": [
       "tensor([10, 12, 14, 16, 18, 20, 22, 24, 26, 28, 30, 32, 34, 36, 38])"
      ]
     },
     "execution_count": 42,
     "metadata": {},
     "output_type": "execute_result"
    }
   ],
   "source": [
    "#usage of range function \n",
    "torch.arange(10,40,2)"
   ]
  },
  {
   "cell_type": "code",
   "execution_count": 43,
   "metadata": {},
   "outputs": [
    {
     "data": {
      "text/plain": [
       "tensor([10, 11, 12, 13, 14, 15, 16, 17, 18, 19, 20, 21, 22, 23, 24, 25, 26, 27,\n",
       "        28, 29, 30, 31, 32, 33, 34, 35, 36, 37, 38, 39])"
      ]
     },
     "execution_count": 43,
     "metadata": {},
     "output_type": "execute_result"
    }
   ],
   "source": [
    "torch.arange(10,40)"
   ]
  },
  {
   "cell_type": "code",
   "execution_count": 45,
   "metadata": {},
   "outputs": [
    {
     "data": {
      "text/plain": [
       "tensor([[ 0.6857,  0.1674,  0.2725, -0.0157, -0.6181],\n",
       "        [-0.5895, -0.7014, -1.6239,  0.0949,  1.3449],\n",
       "        [ 0.7677,  0.6818, -1.4667,  1.7836,  0.2956],\n",
       "        [-1.6690, -1.2410,  0.0695,  0.1624, -1.3232]])"
      ]
     },
     "execution_count": 45,
     "metadata": {},
     "output_type": "execute_result"
    }
   ],
   "source": [
    "d=torch.randn(4,5)\n",
    "d"
   ]
  },
  {
   "cell_type": "code",
   "execution_count": 46,
   "metadata": {},
   "outputs": [
    {
     "data": {
      "text/plain": [
       "tensor([4, 2, 2, 0])"
      ]
     },
     "execution_count": 46,
     "metadata": {},
     "output_type": "execute_result"
    }
   ],
   "source": [
    "torch.argmin(d,dim=1)"
   ]
  },
  {
   "cell_type": "code",
   "execution_count": 47,
   "metadata": {},
   "outputs": [
    {
     "data": {
      "text/plain": [
       "tensor([0, 4, 3, 3])"
      ]
     },
     "execution_count": 47,
     "metadata": {},
     "output_type": "execute_result"
    }
   ],
   "source": [
    "torch.argmax(d,dim=1)"
   ]
  },
  {
   "cell_type": "markdown",
   "metadata": {},
   "source": [
    "# Rows and columns 2D tensor"
   ]
  },
  {
   "cell_type": "code",
   "execution_count": 48,
   "metadata": {},
   "outputs": [
    {
     "data": {
      "text/plain": [
       "tensor([[0., 0., 0., 0., 0.],\n",
       "        [0., 0., 0., 0., 0.],\n",
       "        [0., 0., 0., 0., 0.],\n",
       "        [0., 0., 0., 0., 0.]])"
      ]
     },
     "execution_count": 48,
     "metadata": {},
     "output_type": "execute_result"
    }
   ],
   "source": [
    "torch.zeros(4,5)"
   ]
  },
  {
   "cell_type": "code",
   "execution_count": 49,
   "metadata": {},
   "outputs": [
    {
     "data": {
      "text/plain": [
       "tensor([0., 0., 0., 0., 0., 0., 0., 0., 0., 0.])"
      ]
     },
     "execution_count": 49,
     "metadata": {},
     "output_type": "execute_result"
    }
   ],
   "source": [
    "torch.zeros(10)"
   ]
  },
  {
   "cell_type": "code",
   "execution_count": 51,
   "metadata": {},
   "outputs": [
    {
     "data": {
      "text/plain": [
       "tensor([[-1.0455, -1.0968,  0.2215, -1.0376,  1.5177],\n",
       "        [-0.1023,  0.0683,  0.4956, -1.2352, -0.3763],\n",
       "        [ 0.7779,  0.8377,  0.6843,  2.1391,  0.0605],\n",
       "        [-0.0875,  0.2875, -0.1476, -1.1903,  1.3517]])"
      ]
     },
     "execution_count": 51,
     "metadata": {},
     "output_type": "execute_result"
    }
   ],
   "source": [
    "x=torch.randn(4,5)\n",
    "x"
   ]
  },
  {
   "cell_type": "markdown",
   "metadata": {},
   "source": [
    "Concatenate two tensors"
   ]
  },
  {
   "cell_type": "code",
   "execution_count": 52,
   "metadata": {},
   "outputs": [
    {
     "data": {
      "text/plain": [
       "tensor([[-1.0455, -1.0968,  0.2215, -1.0376,  1.5177],\n",
       "        [-0.1023,  0.0683,  0.4956, -1.2352, -0.3763],\n",
       "        [ 0.7779,  0.8377,  0.6843,  2.1391,  0.0605],\n",
       "        [-0.0875,  0.2875, -0.1476, -1.1903,  1.3517],\n",
       "        [-1.0455, -1.0968,  0.2215, -1.0376,  1.5177],\n",
       "        [-0.1023,  0.0683,  0.4956, -1.2352, -0.3763],\n",
       "        [ 0.7779,  0.8377,  0.6843,  2.1391,  0.0605],\n",
       "        [-0.0875,  0.2875, -0.1476, -1.1903,  1.3517]])"
      ]
     },
     "execution_count": 52,
     "metadata": {},
     "output_type": "execute_result"
    }
   ],
   "source": [
    "#concatenate two tensors \n",
    "torch.cat((x,x))"
   ]
  },
  {
   "cell_type": "code",
   "execution_count": 53,
   "metadata": {},
   "outputs": [
    {
     "data": {
      "text/plain": [
       "tensor([[-1.0455, -1.0968,  0.2215, -1.0376,  1.5177, -1.0455, -1.0968,  0.2215,\n",
       "         -1.0376,  1.5177, -1.0455, -1.0968,  0.2215, -1.0376,  1.5177],\n",
       "        [-0.1023,  0.0683,  0.4956, -1.2352, -0.3763, -0.1023,  0.0683,  0.4956,\n",
       "         -1.2352, -0.3763, -0.1023,  0.0683,  0.4956, -1.2352, -0.3763],\n",
       "        [ 0.7779,  0.8377,  0.6843,  2.1391,  0.0605,  0.7779,  0.8377,  0.6843,\n",
       "          2.1391,  0.0605,  0.7779,  0.8377,  0.6843,  2.1391,  0.0605],\n",
       "        [-0.0875,  0.2875, -0.1476, -1.1903,  1.3517, -0.0875,  0.2875, -0.1476,\n",
       "         -1.1903,  1.3517, -0.0875,  0.2875, -0.1476, -1.1903,  1.3517]])"
      ]
     },
     "execution_count": 53,
     "metadata": {},
     "output_type": "execute_result"
    }
   ],
   "source": [
    "torch.cat((x,x,x),1)"
   ]
  },
  {
   "cell_type": "code",
   "execution_count": 54,
   "metadata": {},
   "outputs": [
    {
     "data": {
      "text/plain": [
       "tensor([[-1.0455, -1.0968,  0.2215, -1.0376,  1.5177],\n",
       "        [-0.1023,  0.0683,  0.4956, -1.2352, -0.3763],\n",
       "        [ 0.7779,  0.8377,  0.6843,  2.1391,  0.0605],\n",
       "        [-0.0875,  0.2875, -0.1476, -1.1903,  1.3517],\n",
       "        [-1.0455, -1.0968,  0.2215, -1.0376,  1.5177],\n",
       "        [-0.1023,  0.0683,  0.4956, -1.2352, -0.3763],\n",
       "        [ 0.7779,  0.8377,  0.6843,  2.1391,  0.0605],\n",
       "        [-0.0875,  0.2875, -0.1476, -1.1903,  1.3517]])"
      ]
     },
     "execution_count": 54,
     "metadata": {},
     "output_type": "execute_result"
    }
   ],
   "source": [
    "torch.cat((x,x), 0 )"
   ]
  },
  {
   "cell_type": "code",
   "execution_count": 55,
   "metadata": {},
   "outputs": [
    {
     "name": "stdout",
     "output_type": "stream",
     "text": [
      "tensor([[-1.6800,  0.5274,  1.4102, -0.0094],\n",
      "        [ 0.4184,  1.7037,  0.0606, -2.2732],\n",
      "        [ 0.4244, -2.3179, -0.1782, -0.6730],\n",
      "        [-1.2695,  1.1779, -0.1961, -0.7307]])\n"
     ]
    }
   ],
   "source": [
    "a=torch.randn(4,4)\n",
    "print(a)"
   ]
  },
  {
   "cell_type": "code",
   "execution_count": 56,
   "metadata": {},
   "outputs": [
    {
     "data": {
      "text/plain": [
       "(tensor([[-1.6800,  0.5274,  1.4102, -0.0094],\n",
       "         [ 0.4184,  1.7037,  0.0606, -2.2732]]),\n",
       " tensor([[ 0.4244, -2.3179, -0.1782, -0.6730],\n",
       "         [-1.2695,  1.1779, -0.1961, -0.7307]]))"
      ]
     },
     "execution_count": 56,
     "metadata": {},
     "output_type": "execute_result"
    }
   ],
   "source": [
    "torch.chunk(a,2)"
   ]
  },
  {
   "cell_type": "code",
   "execution_count": 57,
   "metadata": {},
   "outputs": [
    {
     "data": {
      "text/plain": [
       "(tensor([[-1.6800,  0.5274,  1.4102, -0.0094],\n",
       "         [ 0.4184,  1.7037,  0.0606, -2.2732]]),\n",
       " tensor([[ 0.4244, -2.3179, -0.1782, -0.6730],\n",
       "         [-1.2695,  1.1779, -0.1961, -0.7307]]))"
      ]
     },
     "execution_count": 57,
     "metadata": {},
     "output_type": "execute_result"
    }
   ],
   "source": [
    "torch.chunk(a,2,0)"
   ]
  },
  {
   "cell_type": "code",
   "execution_count": 58,
   "metadata": {},
   "outputs": [
    {
     "data": {
      "text/plain": [
       "(tensor([[-1.6800,  0.5274],\n",
       "         [ 0.4184,  1.7037],\n",
       "         [ 0.4244, -2.3179],\n",
       "         [-1.2695,  1.1779]]),\n",
       " tensor([[ 1.4102, -0.0094],\n",
       "         [ 0.0606, -2.2732],\n",
       "         [-0.1782, -0.6730],\n",
       "         [-0.1961, -0.7307]]))"
      ]
     },
     "execution_count": 58,
     "metadata": {},
     "output_type": "execute_result"
    }
   ],
   "source": [
    "torch.chunk(a,2,1)"
   ]
  },
  {
   "cell_type": "code",
   "execution_count": 59,
   "metadata": {},
   "outputs": [
    {
     "data": {
      "text/plain": [
       "tensor([[11., 12.],\n",
       "        [23., 24.]])"
      ]
     },
     "execution_count": 59,
     "metadata": {},
     "output_type": "execute_result"
    }
   ],
   "source": [
    "torch.Tensor([[11,12], [23,24]])"
   ]
  },
  {
   "cell_type": "code",
   "execution_count": 60,
   "metadata": {},
   "outputs": [
    {
     "data": {
      "text/plain": [
       "tensor([[11., 11.],\n",
       "        [24., 23.]])"
      ]
     },
     "execution_count": 60,
     "metadata": {},
     "output_type": "execute_result"
    }
   ],
   "source": [
    "torch.gather(torch.Tensor([[11,12], [23,24]]),1, torch.LongTensor([[0,0],[1,0]]))"
   ]
  },
  {
   "cell_type": "code",
   "execution_count": 61,
   "metadata": {},
   "outputs": [
    {
     "data": {
      "text/plain": [
       "tensor([[0, 0],\n",
       "        [1, 0]])"
      ]
     },
     "execution_count": 61,
     "metadata": {},
     "output_type": "execute_result"
    }
   ],
   "source": [
    "torch.LongTensor([[0,0],[1,0]])"
   ]
  },
  {
   "cell_type": "code",
   "execution_count": 62,
   "metadata": {},
   "outputs": [
    {
     "name": "stdout",
     "output_type": "stream",
     "text": [
      "tensor([[-1.1847,  0.6204,  0.6979, -0.5902],\n",
      "        [-0.9301, -0.6507,  0.1966, -0.1052],\n",
      "        [ 0.3154,  0.9219, -0.6209, -0.0070],\n",
      "        [ 1.8191,  0.0335,  1.1681, -1.0186]])\n"
     ]
    }
   ],
   "source": [
    "a=torch.randn(4,4)\n",
    "print(a)"
   ]
  },
  {
   "cell_type": "code",
   "execution_count": 65,
   "metadata": {},
   "outputs": [
    {
     "data": {
      "text/plain": [
       "tensor([[-1.1847,  0.6204,  0.6979, -0.5902],\n",
       "        [ 0.3154,  0.9219, -0.6209, -0.0070]])"
      ]
     },
     "execution_count": 65,
     "metadata": {},
     "output_type": "execute_result"
    }
   ],
   "source": [
    "indices =torch.LongTensor([0,2])\n",
    "torch.index_select(a,0,indices)"
   ]
  },
  {
   "cell_type": "code",
   "execution_count": 66,
   "metadata": {},
   "outputs": [
    {
     "data": {
      "text/plain": [
       "tensor([[-1.1847,  0.6979],\n",
       "        [-0.9301,  0.1966],\n",
       "        [ 0.3154, -0.6209],\n",
       "        [ 1.8191,  1.1681]])"
      ]
     },
     "execution_count": 66,
     "metadata": {},
     "output_type": "execute_result"
    }
   ],
   "source": [
    "torch.index_select(a,1,indices)"
   ]
  },
  {
   "cell_type": "code",
   "execution_count": 67,
   "metadata": {},
   "outputs": [
    {
     "data": {
      "text/plain": [
       "tensor([[0],\n",
       "        [2]])"
      ]
     },
     "execution_count": 67,
     "metadata": {},
     "output_type": "execute_result"
    }
   ],
   "source": [
    "#identify null input tensors using nonzero function \n",
    "torch.nonzero(torch.tensor([10,00,23,0,0.0]))"
   ]
  },
  {
   "cell_type": "code",
   "execution_count": 68,
   "metadata": {},
   "outputs": [
    {
     "data": {
      "text/plain": [
       "(tensor([12, 21]), tensor([34, 32]), tensor([45, 54]), tensor([56, 65]))"
      ]
     },
     "execution_count": 68,
     "metadata": {},
     "output_type": "execute_result"
    }
   ],
   "source": [
    "#split tensor into small chunks \n",
    "torch.split(torch.tensor([12,21,34,32,45,54,56,65]),2)"
   ]
  },
  {
   "cell_type": "code",
   "execution_count": 69,
   "metadata": {},
   "outputs": [
    {
     "data": {
      "text/plain": [
       "(tensor([12, 21, 34]), tensor([32, 45, 54]), tensor([56, 65]))"
      ]
     },
     "execution_count": 69,
     "metadata": {},
     "output_type": "execute_result"
    }
   ],
   "source": [
    "torch.split(torch.tensor([12,21,34,32,45,54,56,65]),3)"
   ]
  },
  {
   "cell_type": "code",
   "execution_count": 70,
   "metadata": {},
   "outputs": [
    {
     "data": {
      "text/plain": [
       "tensor([[-1.0455, -1.0968,  0.2215, -1.0376,  1.5177],\n",
       "        [-0.1023,  0.0683,  0.4956, -1.2352, -0.3763],\n",
       "        [ 0.7779,  0.8377,  0.6843,  2.1391,  0.0605],\n",
       "        [-0.0875,  0.2875, -0.1476, -1.1903,  1.3517]])"
      ]
     },
     "execution_count": 70,
     "metadata": {},
     "output_type": "execute_result"
    }
   ],
   "source": [
    "x"
   ]
  },
  {
   "cell_type": "code",
   "execution_count": 72,
   "metadata": {},
   "outputs": [
    {
     "data": {
      "text/plain": [
       "tensor([[-1.0455, -0.1023,  0.7779, -0.0875],\n",
       "        [-1.0968,  0.0683,  0.8377,  0.2875],\n",
       "        [ 0.2215,  0.4956,  0.6843, -0.1476],\n",
       "        [-1.0376, -1.2352,  2.1391, -1.1903],\n",
       "        [ 1.5177, -0.3763,  0.0605,  1.3517]])"
      ]
     },
     "execution_count": 72,
     "metadata": {},
     "output_type": "execute_result"
    }
   ],
   "source": [
    "x.t() #transpose"
   ]
  },
  {
   "cell_type": "code",
   "execution_count": 73,
   "metadata": {},
   "outputs": [
    {
     "data": {
      "text/plain": [
       "tensor([[-1.0455, -0.1023,  0.7779, -0.0875],\n",
       "        [-1.0968,  0.0683,  0.8377,  0.2875],\n",
       "        [ 0.2215,  0.4956,  0.6843, -0.1476],\n",
       "        [-1.0376, -1.2352,  2.1391, -1.1903],\n",
       "        [ 1.5177, -0.3763,  0.0605,  1.3517]])"
      ]
     },
     "execution_count": 73,
     "metadata": {},
     "output_type": "execute_result"
    }
   ],
   "source": [
    "x.transpose(1,0)"
   ]
  },
  {
   "cell_type": "code",
   "execution_count": 74,
   "metadata": {},
   "outputs": [
    {
     "data": {
      "text/plain": [
       "tensor([[-1.0455, -1.0968,  0.2215, -1.0376,  1.5177],\n",
       "        [-0.1023,  0.0683,  0.4956, -1.2352, -0.3763],\n",
       "        [ 0.7779,  0.8377,  0.6843,  2.1391,  0.0605],\n",
       "        [-0.0875,  0.2875, -0.1476, -1.1903,  1.3517]])"
      ]
     },
     "execution_count": 74,
     "metadata": {},
     "output_type": "execute_result"
    }
   ],
   "source": [
    "x"
   ]
  },
  {
   "cell_type": "code",
   "execution_count": 76,
   "metadata": {},
   "outputs": [
    {
     "data": {
      "text/plain": [
       "(tensor([-1.0455, -0.1023,  0.7779, -0.0875]),\n",
       " tensor([-1.0968,  0.0683,  0.8377,  0.2875]),\n",
       " tensor([ 0.2215,  0.4956,  0.6843, -0.1476]),\n",
       " tensor([-1.0376, -1.2352,  2.1391, -1.1903]),\n",
       " tensor([ 1.5177, -0.3763,  0.0605,  1.3517]))"
      ]
     },
     "execution_count": 76,
     "metadata": {},
     "output_type": "execute_result"
    }
   ],
   "source": [
    "torch.unbind(x,1) #dim=1 remove a column "
   ]
  },
  {
   "cell_type": "code",
   "execution_count": 77,
   "metadata": {},
   "outputs": [
    {
     "data": {
      "text/plain": [
       "(tensor([-1.0455, -1.0968,  0.2215, -1.0376,  1.5177]),\n",
       " tensor([-0.1023,  0.0683,  0.4956, -1.2352, -0.3763]),\n",
       " tensor([0.7779, 0.8377, 0.6843, 2.1391, 0.0605]),\n",
       " tensor([-0.0875,  0.2875, -0.1476, -1.1903,  1.3517]))"
      ]
     },
     "execution_count": 77,
     "metadata": {},
     "output_type": "execute_result"
    }
   ],
   "source": [
    "torch.unbind(x) #dim=0 removed a row "
   ]
  },
  {
   "cell_type": "code",
   "execution_count": 78,
   "metadata": {},
   "outputs": [
    {
     "data": {
      "text/plain": [
       "tensor([[-1.0455, -1.0968,  0.2215, -1.0376,  1.5177],\n",
       "        [-0.1023,  0.0683,  0.4956, -1.2352, -0.3763],\n",
       "        [ 0.7779,  0.8377,  0.6843,  2.1391,  0.0605],\n",
       "        [-0.0875,  0.2875, -0.1476, -1.1903,  1.3517]])"
      ]
     },
     "execution_count": 78,
     "metadata": {},
     "output_type": "execute_result"
    }
   ],
   "source": [
    "x"
   ]
  },
  {
   "cell_type": "code",
   "execution_count": 79,
   "metadata": {},
   "outputs": [
    {
     "data": {
      "text/plain": [
       "tensor([[18.9545, 18.9032, 20.2215, 18.9624, 21.5177],\n",
       "        [19.8977, 20.0683, 20.4956, 18.7648, 19.6237],\n",
       "        [20.7779, 20.8377, 20.6843, 22.1391, 20.0605],\n",
       "        [19.9125, 20.2875, 19.8524, 18.8097, 21.3517]])"
      ]
     },
     "execution_count": 79,
     "metadata": {},
     "output_type": "execute_result"
    }
   ],
   "source": [
    "# adding a value to the existing tensor, scalar addition \n",
    "torch.add(x,20)"
   ]
  },
  {
   "cell_type": "code",
   "execution_count": 80,
   "metadata": {},
   "outputs": [
    {
     "data": {
      "text/plain": [
       "tensor([[-1.0455, -1.0968,  0.2215, -1.0376,  1.5177],\n",
       "        [-0.1023,  0.0683,  0.4956, -1.2352, -0.3763],\n",
       "        [ 0.7779,  0.8377,  0.6843,  2.1391,  0.0605],\n",
       "        [-0.0875,  0.2875, -0.1476, -1.1903,  1.3517]])"
      ]
     },
     "execution_count": 80,
     "metadata": {},
     "output_type": "execute_result"
    }
   ],
   "source": [
    "x"
   ]
  },
  {
   "cell_type": "code",
   "execution_count": 81,
   "metadata": {},
   "outputs": [
    {
     "data": {
      "text/plain": [
       "tensor([[-2.0910, -2.1937,  0.4431, -2.0753,  3.0354],\n",
       "        [-0.2046,  0.1366,  0.9912, -2.4703, -0.7526],\n",
       "        [ 1.5558,  1.6754,  1.3686,  4.2781,  0.1211],\n",
       "        [-0.1750,  0.5749, -0.2951, -2.3806,  2.7034]])"
      ]
     },
     "execution_count": 81,
     "metadata": {},
     "output_type": "execute_result"
    }
   ],
   "source": [
    "#scalar multiplication \n",
    "torch.mul(x,2)"
   ]
  },
  {
   "cell_type": "code",
   "execution_count": 82,
   "metadata": {},
   "outputs": [
    {
     "data": {
      "text/plain": [
       "tensor([1.7852])"
      ]
     },
     "execution_count": 82,
     "metadata": {},
     "output_type": "execute_result"
    }
   ],
   "source": [
    "intercept =torch.randn(1)\n",
    "intercept"
   ]
  },
  {
   "cell_type": "code",
   "execution_count": 83,
   "metadata": {},
   "outputs": [
    {
     "data": {
      "text/plain": [
       "tensor([[ 2.8261,  1.1392],\n",
       "        [-0.0210,  0.1057]])"
      ]
     },
     "execution_count": 83,
     "metadata": {},
     "output_type": "execute_result"
    }
   ],
   "source": [
    "x=torch.randn(2,2)\n",
    "x"
   ]
  },
  {
   "cell_type": "code",
   "execution_count": 84,
   "metadata": {},
   "outputs": [
    {
     "data": {
      "text/plain": [
       "0.7456"
      ]
     },
     "execution_count": 84,
     "metadata": {},
     "output_type": "execute_result"
    }
   ],
   "source": [
    "beta=0.7456\n",
    "beta"
   ]
  },
  {
   "cell_type": "code",
   "execution_count": 85,
   "metadata": {},
   "outputs": [
    {
     "data": {
      "text/plain": [
       "tensor([[ 5.0452,  2.0336],\n",
       "        [-0.0375,  0.1888]])"
      ]
     },
     "execution_count": 85,
     "metadata": {},
     "output_type": "execute_result"
    }
   ],
   "source": [
    "torch.mul(intercept,x)"
   ]
  },
  {
   "cell_type": "code",
   "execution_count": 86,
   "metadata": {},
   "outputs": [
    {
     "data": {
      "text/plain": [
       "tensor([[ 2.1071,  0.8494],\n",
       "        [-0.0157,  0.0788]])"
      ]
     },
     "execution_count": 86,
     "metadata": {},
     "output_type": "execute_result"
    }
   ],
   "source": [
    "torch.mul(x,beta)"
   ]
  },
  {
   "cell_type": "code",
   "execution_count": 87,
   "metadata": {},
   "outputs": [
    {
     "data": {
      "text/plain": [
       "tensor([[ 7.1523,  2.8830],\n",
       "        [-0.0532,  0.2676]])"
      ]
     },
     "execution_count": 87,
     "metadata": {},
     "output_type": "execute_result"
    }
   ],
   "source": [
    "# y= intercept + beta*x \n",
    "torch.add(torch.mul(intercept,x), torch.mul(x,beta))\n"
   ]
  },
  {
   "cell_type": "code",
   "execution_count": 88,
   "metadata": {},
   "outputs": [
    {
     "data": {
      "text/plain": [
       "tensor([[-0.1117, -0.4966,  0.1631, -0.8817,  0.0539],\n",
       "        [ 0.6684, -0.0597, -0.4675, -0.2153, -0.7141],\n",
       "        [-1.0831, -0.5547,  0.9717, -0.5150,  1.4255],\n",
       "        [ 0.7987, -1.4949,  1.4778, -0.1696, -0.9919],\n",
       "        [-1.4569,  0.2563, -0.4030,  0.4195,  0.9380]])"
      ]
     },
     "execution_count": 88,
     "metadata": {},
     "output_type": "execute_result"
    }
   ],
   "source": [
    "torch.manual_seed(1234)\n",
    "torch.randn(5,5)"
   ]
  },
  {
   "cell_type": "code",
   "execution_count": 89,
   "metadata": {},
   "outputs": [
    {
     "data": {
      "text/plain": [
       "tensor([[-0., -0.,  1., -0.,  1.],\n",
       "        [ 1., -0., -0., -0., -0.],\n",
       "        [-1., -0.,  1., -0.,  2.],\n",
       "        [ 1., -1.,  2., -0., -0.],\n",
       "        [-1.,  1., -0.,  1.,  1.]])"
      ]
     },
     "execution_count": 89,
     "metadata": {},
     "output_type": "execute_result"
    }
   ],
   "source": [
    "torch.manual_seed(1234)\n",
    "torch.ceil(torch.randn(5,5))"
   ]
  },
  {
   "cell_type": "code",
   "execution_count": 90,
   "metadata": {},
   "outputs": [
    {
     "data": {
      "text/plain": [
       "tensor([[-1., -1.,  0., -1.,  0.],\n",
       "        [ 0., -1., -1., -1., -1.],\n",
       "        [-2., -1.,  0., -1.,  1.],\n",
       "        [ 0., -2.,  1., -1., -1.],\n",
       "        [-2.,  0., -1.,  0.,  0.]])"
      ]
     },
     "execution_count": 90,
     "metadata": {},
     "output_type": "execute_result"
    }
   ],
   "source": [
    "torch.manual_seed(1234)\n",
    "torch.floor(torch.randn(5,5))"
   ]
  },
  {
   "cell_type": "code",
   "execution_count": 91,
   "metadata": {},
   "outputs": [
    {
     "data": {
      "text/plain": [
       "tensor([[-0.3000, -0.3000,  0.0000, -0.3000,  0.0000],\n",
       "        [ 0.0000, -0.3000, -0.3000, -0.3000, -0.3000],\n",
       "        [-0.3000, -0.3000,  0.0000, -0.3000,  0.4000],\n",
       "        [ 0.0000, -0.3000,  0.4000, -0.3000, -0.3000],\n",
       "        [-0.3000,  0.0000, -0.3000,  0.0000,  0.0000]])"
      ]
     },
     "execution_count": 91,
     "metadata": {},
     "output_type": "execute_result"
    }
   ],
   "source": [
    "#truncate the values in range 0 - 1\n",
    "torch.manual_seed(1234)\n",
    "torch.clamp(torch.floor(torch.randn(5,5)), min=-0.3, max=0.4)"
   ]
  },
  {
   "cell_type": "code",
   "execution_count": 92,
   "metadata": {},
   "outputs": [
    {
     "data": {
      "text/plain": [
       "tensor([[-0.3000, -0.3000,  0.0000, -0.3000,  0.0000],\n",
       "        [ 0.0000, -0.3000, -0.3000, -0.3000, -0.3000],\n",
       "        [-0.3000, -0.3000,  0.0000, -0.3000,  1.0000],\n",
       "        [ 0.0000, -0.3000,  1.0000, -0.3000, -0.3000],\n",
       "        [-0.3000,  0.0000, -0.3000,  0.0000,  0.0000]])"
      ]
     },
     "execution_count": 92,
     "metadata": {},
     "output_type": "execute_result"
    }
   ],
   "source": [
    "#truncate with lower limit \n",
    "torch.manual_seed(1234)\n",
    "torch.clamp(torch.floor(torch.randn(5,5)), min=-0.3)"
   ]
  },
  {
   "cell_type": "code",
   "execution_count": 93,
   "metadata": {},
   "outputs": [
    {
     "data": {
      "text/plain": [
       "tensor([[-1.0000, -1.0000,  0.0000, -1.0000,  0.0000],\n",
       "        [ 0.0000, -1.0000, -1.0000, -1.0000, -1.0000],\n",
       "        [-2.0000, -1.0000,  0.0000, -1.0000,  0.3000],\n",
       "        [ 0.0000, -2.0000,  0.3000, -1.0000, -1.0000],\n",
       "        [-2.0000,  0.0000, -1.0000,  0.0000,  0.0000]])"
      ]
     },
     "execution_count": 93,
     "metadata": {},
     "output_type": "execute_result"
    }
   ],
   "source": [
    "#truncate with upper limit \n",
    "torch.manual_seed(1234)\n",
    "torch.clamp(torch.floor(torch.randn(5,5)), max=0.3)"
   ]
  },
  {
   "cell_type": "code",
   "execution_count": 94,
   "metadata": {},
   "outputs": [
    {
     "data": {
      "text/plain": [
       "tensor([[16.8789,  3.1241],\n",
       "        [ 0.9792,  1.1115]])"
      ]
     },
     "execution_count": 94,
     "metadata": {},
     "output_type": "execute_result"
    }
   ],
   "source": [
    "# compute exponential of a tensor \n",
    "torch.exp(x)"
   ]
  },
  {
   "cell_type": "code",
   "execution_count": 95,
   "metadata": {},
   "outputs": [
    {
     "data": {
      "text/plain": [
       "tensor([[16.8789,  3.1241],\n",
       "        [ 0.9792,  1.1115]])"
      ]
     },
     "execution_count": 95,
     "metadata": {},
     "output_type": "execute_result"
    }
   ],
   "source": [
    "np.exp(x)"
   ]
  },
  {
   "cell_type": "code",
   "execution_count": 96,
   "metadata": {},
   "outputs": [
    {
     "data": {
      "text/plain": [
       "tensor([[12.8261, 11.1392],\n",
       "        [ 9.9790, 10.1057]])"
      ]
     },
     "execution_count": 96,
     "metadata": {},
     "output_type": "execute_result"
    }
   ],
   "source": [
    "torch.add(x,10)"
   ]
  },
  {
   "cell_type": "code",
   "execution_count": 97,
   "metadata": {},
   "outputs": [
    {
     "data": {
      "text/plain": [
       "tensor([[0.8261, 0.1392],\n",
       "        [0.9790, 0.1057]])"
      ]
     },
     "execution_count": 97,
     "metadata": {},
     "output_type": "execute_result"
    }
   ],
   "source": [
    "torch.frac(torch.add(x,10))"
   ]
  },
  {
   "cell_type": "code",
   "execution_count": 98,
   "metadata": {},
   "outputs": [
    {
     "data": {
      "text/plain": [
       "tensor([[ 2.8261,  1.1392],\n",
       "        [-0.0210,  0.1057]])"
      ]
     },
     "execution_count": 98,
     "metadata": {},
     "output_type": "execute_result"
    }
   ],
   "source": [
    "#compute log of the values in a tensor \n",
    "x"
   ]
  },
  {
   "cell_type": "code",
   "execution_count": 100,
   "metadata": {},
   "outputs": [
    {
     "data": {
      "text/plain": [
       "tensor([[ 1.0389,  0.1303],\n",
       "        [    nan, -2.2468]])"
      ]
     },
     "execution_count": 100,
     "metadata": {},
     "output_type": "execute_result"
    }
   ],
   "source": [
    "torch.log(x)"
   ]
  },
  {
   "cell_type": "code",
   "execution_count": 101,
   "metadata": {},
   "outputs": [
    {
     "data": {
      "text/plain": [
       "tensor([[7.9866e+00, 1.2977e+00],\n",
       "        [4.4134e-04, 1.1181e-02]])"
      ]
     },
     "execution_count": 101,
     "metadata": {},
     "output_type": "execute_result"
    }
   ],
   "source": [
    "torch.pow(x,2)"
   ]
  },
  {
   "cell_type": "code",
   "execution_count": 102,
   "metadata": {},
   "outputs": [
    {
     "data": {
      "text/plain": [
       "tensor([[ 2.8261,  1.1392],\n",
       "        [-0.0210,  0.1057]])"
      ]
     },
     "execution_count": 102,
     "metadata": {},
     "output_type": "execute_result"
    }
   ],
   "source": [
    "#sigmoid of the input tensor \n",
    "x"
   ]
  },
  {
   "cell_type": "code",
   "execution_count": 103,
   "metadata": {},
   "outputs": [
    {
     "data": {
      "text/plain": [
       "tensor([[0.9441, 0.7575],\n",
       "        [0.4947, 0.5264]])"
      ]
     },
     "execution_count": 103,
     "metadata": {},
     "output_type": "execute_result"
    }
   ],
   "source": [
    "torch.sigmoid(x)"
   ]
  },
  {
   "cell_type": "code",
   "execution_count": 104,
   "metadata": {},
   "outputs": [
    {
     "data": {
      "text/plain": [
       "tensor([[1.6811, 1.0673],\n",
       "        [   nan, 0.3252]])"
      ]
     },
     "execution_count": 104,
     "metadata": {},
     "output_type": "execute_result"
    }
   ],
   "source": [
    "torch.sqrt(x)"
   ]
  },
  {
   "cell_type": "code",
   "execution_count": null,
   "metadata": {},
   "outputs": [],
   "source": []
  }
 ],
 "metadata": {
  "kernelspec": {
   "display_name": "Python 3",
   "language": "python",
   "name": "python3"
  },
  "language_info": {
   "codemirror_mode": {
    "name": "ipython",
    "version": 3
   },
   "file_extension": ".py",
   "mimetype": "text/x-python",
   "name": "python",
   "nbconvert_exporter": "python",
   "pygments_lexer": "ipython3",
   "version": "3.7.7"
  }
 },
 "nbformat": 4,
 "nbformat_minor": 4
}
